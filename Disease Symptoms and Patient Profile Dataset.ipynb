{
 "cells": [
  {
   "cell_type": "markdown",
   "id": "c7b770a4-695b-43be-8fd3-367e4173a49c",
   "metadata": {},
   "source": [
    "# Load the necessary liabraries"
   ]
  },
  {
   "cell_type": "code",
   "execution_count": 92,
   "id": "1269c80a-4ea3-42b5-9f3c-e1f01abb89da",
   "metadata": {},
   "outputs": [],
   "source": [
    "import numpy as np\n",
    "import pandas as pd\n",
    "import matplotlib.pyplot as plt\n",
    "import seaborn as sns\n",
    "import warnings\n",
    "warnings.filterwarnings(\"ignore\")"
   ]
  },
  {
   "cell_type": "markdown",
   "id": "45286a8d-7b4e-493b-a8c2-139253aed83d",
   "metadata": {},
   "source": [
    "# Load the dataset"
   ]
  },
  {
   "cell_type": "code",
   "execution_count": 114,
   "id": "c6a587de-45bd-410d-8b00-5ff4fa4cf518",
   "metadata": {},
   "outputs": [
    {
     "data": {
      "text/html": [
       "<div>\n",
       "<style scoped>\n",
       "    .dataframe tbody tr th:only-of-type {\n",
       "        vertical-align: middle;\n",
       "    }\n",
       "\n",
       "    .dataframe tbody tr th {\n",
       "        vertical-align: top;\n",
       "    }\n",
       "\n",
       "    .dataframe thead th {\n",
       "        text-align: right;\n",
       "    }\n",
       "</style>\n",
       "<table border=\"1\" class=\"dataframe\">\n",
       "  <thead>\n",
       "    <tr style=\"text-align: right;\">\n",
       "      <th></th>\n",
       "      <th>Disease</th>\n",
       "      <th>Fever</th>\n",
       "      <th>Cough</th>\n",
       "      <th>Fatigue</th>\n",
       "      <th>Difficulty Breathing</th>\n",
       "      <th>Age</th>\n",
       "      <th>Gender</th>\n",
       "      <th>Blood Pressure</th>\n",
       "      <th>Cholesterol Level</th>\n",
       "      <th>Outcome Variable</th>\n",
       "    </tr>\n",
       "  </thead>\n",
       "  <tbody>\n",
       "    <tr>\n",
       "      <th>0</th>\n",
       "      <td>Influenza</td>\n",
       "      <td>Yes</td>\n",
       "      <td>No</td>\n",
       "      <td>Yes</td>\n",
       "      <td>Yes</td>\n",
       "      <td>19</td>\n",
       "      <td>Female</td>\n",
       "      <td>Low</td>\n",
       "      <td>Normal</td>\n",
       "      <td>Positive</td>\n",
       "    </tr>\n",
       "    <tr>\n",
       "      <th>1</th>\n",
       "      <td>Common Cold</td>\n",
       "      <td>No</td>\n",
       "      <td>Yes</td>\n",
       "      <td>Yes</td>\n",
       "      <td>No</td>\n",
       "      <td>25</td>\n",
       "      <td>Female</td>\n",
       "      <td>Normal</td>\n",
       "      <td>Normal</td>\n",
       "      <td>Negative</td>\n",
       "    </tr>\n",
       "    <tr>\n",
       "      <th>2</th>\n",
       "      <td>Eczema</td>\n",
       "      <td>No</td>\n",
       "      <td>Yes</td>\n",
       "      <td>Yes</td>\n",
       "      <td>No</td>\n",
       "      <td>25</td>\n",
       "      <td>Female</td>\n",
       "      <td>Normal</td>\n",
       "      <td>Normal</td>\n",
       "      <td>Negative</td>\n",
       "    </tr>\n",
       "    <tr>\n",
       "      <th>3</th>\n",
       "      <td>Asthma</td>\n",
       "      <td>Yes</td>\n",
       "      <td>Yes</td>\n",
       "      <td>No</td>\n",
       "      <td>Yes</td>\n",
       "      <td>25</td>\n",
       "      <td>Male</td>\n",
       "      <td>Normal</td>\n",
       "      <td>Normal</td>\n",
       "      <td>Positive</td>\n",
       "    </tr>\n",
       "    <tr>\n",
       "      <th>4</th>\n",
       "      <td>Asthma</td>\n",
       "      <td>Yes</td>\n",
       "      <td>Yes</td>\n",
       "      <td>No</td>\n",
       "      <td>Yes</td>\n",
       "      <td>25</td>\n",
       "      <td>Male</td>\n",
       "      <td>Normal</td>\n",
       "      <td>Normal</td>\n",
       "      <td>Positive</td>\n",
       "    </tr>\n",
       "    <tr>\n",
       "      <th>5</th>\n",
       "      <td>Eczema</td>\n",
       "      <td>Yes</td>\n",
       "      <td>No</td>\n",
       "      <td>No</td>\n",
       "      <td>No</td>\n",
       "      <td>25</td>\n",
       "      <td>Female</td>\n",
       "      <td>Normal</td>\n",
       "      <td>Normal</td>\n",
       "      <td>Positive</td>\n",
       "    </tr>\n",
       "    <tr>\n",
       "      <th>6</th>\n",
       "      <td>Influenza</td>\n",
       "      <td>Yes</td>\n",
       "      <td>Yes</td>\n",
       "      <td>Yes</td>\n",
       "      <td>Yes</td>\n",
       "      <td>25</td>\n",
       "      <td>Female</td>\n",
       "      <td>Normal</td>\n",
       "      <td>Normal</td>\n",
       "      <td>Positive</td>\n",
       "    </tr>\n",
       "    <tr>\n",
       "      <th>7</th>\n",
       "      <td>Influenza</td>\n",
       "      <td>Yes</td>\n",
       "      <td>Yes</td>\n",
       "      <td>Yes</td>\n",
       "      <td>Yes</td>\n",
       "      <td>25</td>\n",
       "      <td>Female</td>\n",
       "      <td>Normal</td>\n",
       "      <td>Normal</td>\n",
       "      <td>Positive</td>\n",
       "    </tr>\n",
       "    <tr>\n",
       "      <th>8</th>\n",
       "      <td>Hyperthyroidism</td>\n",
       "      <td>No</td>\n",
       "      <td>Yes</td>\n",
       "      <td>No</td>\n",
       "      <td>No</td>\n",
       "      <td>28</td>\n",
       "      <td>Female</td>\n",
       "      <td>Normal</td>\n",
       "      <td>Normal</td>\n",
       "      <td>Negative</td>\n",
       "    </tr>\n",
       "    <tr>\n",
       "      <th>9</th>\n",
       "      <td>Hyperthyroidism</td>\n",
       "      <td>No</td>\n",
       "      <td>Yes</td>\n",
       "      <td>No</td>\n",
       "      <td>No</td>\n",
       "      <td>28</td>\n",
       "      <td>Female</td>\n",
       "      <td>Normal</td>\n",
       "      <td>Normal</td>\n",
       "      <td>Negative</td>\n",
       "    </tr>\n",
       "  </tbody>\n",
       "</table>\n",
       "</div>"
      ],
      "text/plain": [
       "           Disease Fever Cough Fatigue Difficulty Breathing  Age  Gender  \\\n",
       "0        Influenza   Yes    No     Yes                  Yes   19  Female   \n",
       "1      Common Cold    No   Yes     Yes                   No   25  Female   \n",
       "2           Eczema    No   Yes     Yes                   No   25  Female   \n",
       "3           Asthma   Yes   Yes      No                  Yes   25    Male   \n",
       "4           Asthma   Yes   Yes      No                  Yes   25    Male   \n",
       "5           Eczema   Yes    No      No                   No   25  Female   \n",
       "6        Influenza   Yes   Yes     Yes                  Yes   25  Female   \n",
       "7        Influenza   Yes   Yes     Yes                  Yes   25  Female   \n",
       "8  Hyperthyroidism    No   Yes      No                   No   28  Female   \n",
       "9  Hyperthyroidism    No   Yes      No                   No   28  Female   \n",
       "\n",
       "  Blood Pressure Cholesterol Level Outcome Variable  \n",
       "0            Low            Normal         Positive  \n",
       "1         Normal            Normal         Negative  \n",
       "2         Normal            Normal         Negative  \n",
       "3         Normal            Normal         Positive  \n",
       "4         Normal            Normal         Positive  \n",
       "5         Normal            Normal         Positive  \n",
       "6         Normal            Normal         Positive  \n",
       "7         Normal            Normal         Positive  \n",
       "8         Normal            Normal         Negative  \n",
       "9         Normal            Normal         Negative  "
      ]
     },
     "execution_count": 114,
     "metadata": {},
     "output_type": "execute_result"
    }
   ],
   "source": [
    "df=pd.read_csv('Disease_symptom_and_patient_profile_dataset.csv')\n",
    "df.head(10)"
   ]
  },
  {
   "cell_type": "code",
   "execution_count": 94,
   "id": "fd31f90f-8568-4f2e-a3ff-deb9100984bb",
   "metadata": {},
   "outputs": [
    {
     "data": {
      "text/plain": [
       "Disease\n",
       "Asthma                            23\n",
       "Stroke                            16\n",
       "Osteoporosis                      14\n",
       "Hypertension                      10\n",
       "Diabetes                          10\n",
       "                                  ..\n",
       "Autism Spectrum Disorder (ASD)     1\n",
       "Hypoglycemia                       1\n",
       "Fibromyalgia                       1\n",
       "Eating Disorders (Anorexia,...     1\n",
       "Williams Syndrome                  1\n",
       "Name: count, Length: 116, dtype: int64"
      ]
     },
     "execution_count": 94,
     "metadata": {},
     "output_type": "execute_result"
    }
   ],
   "source": [
    "df['Disease'].value_counts()"
   ]
  },
  {
   "cell_type": "code",
   "execution_count": 19,
   "id": "cf7605e7-ccd7-4a79-a93a-692b0918a9a3",
   "metadata": {},
   "outputs": [
    {
     "data": {
      "text/plain": [
       "array(['Influenza', 'Common Cold', 'Eczema', 'Asthma', 'Hyperthyroidism',\n",
       "       'Allergic Rhinitis', 'Anxiety Disorders', 'Diabetes',\n",
       "       'Gastroenteritis', 'Pancreatitis', 'Rheumatoid Arthritis',\n",
       "       'Depression', 'Liver Cancer', 'Stroke', 'Urinary Tract Infection',\n",
       "       'Dengue Fever', 'Hepatitis', 'Kidney Cancer', 'Migraine',\n",
       "       'Muscular Dystrophy', 'Sinusitis', 'Ulcerative Colitis',\n",
       "       'Bipolar Disorder', 'Bronchitis', 'Cerebral Palsy',\n",
       "       'Colorectal Cancer', 'Hypertensive Heart Disease',\n",
       "       'Multiple Sclerosis', 'Myocardial Infarction (Heart...',\n",
       "       'Urinary Tract Infection (UTI)', 'Osteoporosis', 'Pneumonia',\n",
       "       'Atherosclerosis', 'Chronic Obstructive Pulmonary...', 'Epilepsy',\n",
       "       'Hypertension', 'Obsessive-Compulsive Disorde...', 'Psoriasis',\n",
       "       'Rubella', 'Cirrhosis', 'Conjunctivitis (Pink Eye)',\n",
       "       'Liver Disease', 'Malaria', 'Spina Bifida', 'Kidney Disease',\n",
       "       'Osteoarthritis', 'Klinefelter Syndrome', 'Acne', 'Brain Tumor',\n",
       "       'Cystic Fibrosis', 'Glaucoma', 'Rabies', 'Chickenpox',\n",
       "       'Coronary Artery Disease', 'Eating Disorders (Anorexia,...',\n",
       "       'Fibromyalgia', 'Hemophilia', 'Hypoglycemia', 'Lymphoma',\n",
       "       'Tuberculosis', 'Lung Cancer', 'Hypothyroidism',\n",
       "       'Autism Spectrum Disorder (ASD)', \"Crohn's Disease\",\n",
       "       'Hyperglycemia', 'Melanoma', 'Ovarian Cancer', 'Turner Syndrome',\n",
       "       'Zika Virus', 'Cataracts', 'Pneumocystis Pneumonia (PCP)',\n",
       "       'Scoliosis', 'Sickle Cell Anemia', 'Tetanus', 'Anemia', 'Cholera',\n",
       "       'Endometriosis', 'Sepsis', 'Sleep Apnea', 'Down Syndrome',\n",
       "       'Ebola Virus', 'Lyme Disease', 'Pancreatic Cancer', 'Pneumothorax',\n",
       "       'Appendicitis', 'Esophageal Cancer', 'HIV/AIDS', 'Marfan Syndrome',\n",
       "       \"Parkinson's Disease\", 'Hemorrhoids',\n",
       "       'Polycystic Ovary Syndrome (PCOS)',\n",
       "       'Systemic Lupus Erythematosus...', 'Typhoid Fever',\n",
       "       'Breast Cancer', 'Measles', 'Osteomyelitis', 'Polio',\n",
       "       'Chronic Kidney Disease', 'Hepatitis B', 'Prader-Willi Syndrome',\n",
       "       'Thyroid Cancer', 'Bladder Cancer', 'Otitis Media (Ear Infection)',\n",
       "       'Tourette Syndrome', \"Alzheimer's Disease\",\n",
       "       'Chronic Obstructive Pulmonary Disease (COPD)', 'Dementia',\n",
       "       'Diverticulitis', 'Mumps', 'Cholecystitis', 'Prostate Cancer',\n",
       "       'Schizophrenia', 'Gout', 'Testicular Cancer', 'Tonsillitis',\n",
       "       'Williams Syndrome'], dtype=object)"
      ]
     },
     "execution_count": 19,
     "metadata": {},
     "output_type": "execute_result"
    }
   ],
   "source": [
    "df['Disease'].unique()"
   ]
  },
  {
   "cell_type": "code",
   "execution_count": 21,
   "id": "2da357e5-c141-45a7-a535-f329855464c6",
   "metadata": {},
   "outputs": [
    {
     "data": {
      "text/plain": [
       "Age\n",
       "45    36\n",
       "35    36\n",
       "50    31\n",
       "40    26\n",
       "55    25\n",
       "30    25\n",
       "60    25\n",
       "65    19\n",
       "42    15\n",
       "38    14\n",
       "70    13\n",
       "29    11\n",
       "25     5\n",
       "31     4\n",
       "48     2\n",
       "52     2\n",
       "28     2\n",
       "85     1\n",
       "80     1\n",
       "19     1\n",
       "57     1\n",
       "56     1\n",
       "43     1\n",
       "39     1\n",
       "32     1\n",
       "90     1\n",
       "Name: count, dtype: int64"
      ]
     },
     "execution_count": 21,
     "metadata": {},
     "output_type": "execute_result"
    }
   ],
   "source": [
    "df['Age'].value_counts()"
   ]
  },
  {
   "cell_type": "code",
   "execution_count": 22,
   "id": "175df4ea-ba3c-40d4-8637-e22f7de363b7",
   "metadata": {},
   "outputs": [
    {
     "data": {
      "text/plain": [
       "array([19, 25, 28, 29, 30, 31, 32, 35, 38, 39, 40, 42, 43, 45, 48, 50, 52,\n",
       "       55, 56, 57, 60, 65, 70, 80, 85, 90], dtype=int64)"
      ]
     },
     "execution_count": 22,
     "metadata": {},
     "output_type": "execute_result"
    }
   ],
   "source": [
    "df['Age'].unique()"
   ]
  },
  {
   "cell_type": "markdown",
   "id": "7a6154bd-48ee-4fb0-9c57-f8189e35503b",
   "metadata": {},
   "source": [
    "# check the shape of data set"
   ]
  },
  {
   "cell_type": "code",
   "execution_count": 4,
   "id": "b4cd6fff-19d4-40f3-82f7-1faa2400a7da",
   "metadata": {},
   "outputs": [
    {
     "data": {
      "text/plain": [
       "(349, 10)"
      ]
     },
     "execution_count": 4,
     "metadata": {},
     "output_type": "execute_result"
    }
   ],
   "source": [
    "df.shape"
   ]
  },
  {
   "cell_type": "markdown",
   "id": "e095a1af-a916-48dd-a5cd-75f72aa9a950",
   "metadata": {},
   "source": [
    "###### Number of rows=349\n",
    "###### Number of columns=10"
   ]
  },
  {
   "cell_type": "markdown",
   "id": "5d159893-6f0d-46a1-8598-afb77e7dc5dd",
   "metadata": {},
   "source": [
    "# Data Preprocessing"
   ]
  },
  {
   "cell_type": "markdown",
   "id": "bcafd6f9-f760-4cc7-8dee-97418bfbe4de",
   "metadata": {},
   "source": [
    "## Handling Null value"
   ]
  },
  {
   "cell_type": "code",
   "execution_count": 5,
   "id": "428280ea-a79e-4f3a-89a6-193f7398810c",
   "metadata": {},
   "outputs": [
    {
     "data": {
      "text/plain": [
       "Disease                 0\n",
       "Fever                   0\n",
       "Cough                   0\n",
       "Fatigue                 0\n",
       "Difficulty Breathing    0\n",
       "Age                     0\n",
       "Gender                  0\n",
       "Blood Pressure          0\n",
       "Cholesterol Level       0\n",
       "Outcome Variable        0\n",
       "dtype: int64"
      ]
     },
     "execution_count": 5,
     "metadata": {},
     "output_type": "execute_result"
    }
   ],
   "source": [
    "df.isnull().sum()"
   ]
  },
  {
   "cell_type": "markdown",
   "id": "056d5662-bffc-49a9-aa07-93edafbe3e45",
   "metadata": {},
   "source": [
    "# Fetch the duplicate value"
   ]
  },
  {
   "cell_type": "code",
   "execution_count": 95,
   "id": "c888c2d4-ea4e-4d1c-a5b2-c327c78a87a9",
   "metadata": {},
   "outputs": [
    {
     "data": {
      "text/plain": [
       "49"
      ]
     },
     "execution_count": 95,
     "metadata": {},
     "output_type": "execute_result"
    }
   ],
   "source": [
    "df.duplicated().sum()"
   ]
  },
  {
   "cell_type": "markdown",
   "id": "50d9f8e1-6ede-4807-84fe-938c2d9a1ab4",
   "metadata": {},
   "source": [
    "# Drop duplicate value"
   ]
  },
  {
   "cell_type": "code",
   "execution_count": 115,
   "id": "3ed56ef5-d495-46bd-a81a-88159f764f9d",
   "metadata": {},
   "outputs": [
    {
     "data": {
      "text/plain": [
       "(300, 10)"
      ]
     },
     "execution_count": 115,
     "metadata": {},
     "output_type": "execute_result"
    }
   ],
   "source": [
    "df.drop_duplicates(inplace=True)\n",
    "df.shape"
   ]
  },
  {
   "cell_type": "markdown",
   "id": "93efdc48-57e3-4419-a7e5-fd488831bce7",
   "metadata": {},
   "source": [
    "# check the Data type "
   ]
  },
  {
   "cell_type": "code",
   "execution_count": 97,
   "id": "f0cacc41-731d-4ef1-9815-aa8d191f68e0",
   "metadata": {},
   "outputs": [
    {
     "data": {
      "text/plain": [
       "Disease                 object\n",
       "Fever                   object\n",
       "Cough                   object\n",
       "Fatigue                 object\n",
       "Difficulty Breathing    object\n",
       "Age                      int64\n",
       "Gender                  object\n",
       "Blood Pressure          object\n",
       "Cholesterol Level       object\n",
       "Outcome Variable        object\n",
       "dtype: object"
      ]
     },
     "execution_count": 97,
     "metadata": {},
     "output_type": "execute_result"
    }
   ],
   "source": [
    "df.dtypes"
   ]
  },
  {
   "cell_type": "markdown",
   "id": "d285161d-6ad8-428b-8c15-92f9fcc29e0d",
   "metadata": {},
   "source": [
    "# check the statistical nature of numerical value in data set"
   ]
  },
  {
   "cell_type": "code",
   "execution_count": 23,
   "id": "5ec7ca4d-7a87-4a66-8932-aa6440de84e1",
   "metadata": {},
   "outputs": [
    {
     "data": {
      "text/html": [
       "<div>\n",
       "<style scoped>\n",
       "    .dataframe tbody tr th:only-of-type {\n",
       "        vertical-align: middle;\n",
       "    }\n",
       "\n",
       "    .dataframe tbody tr th {\n",
       "        vertical-align: top;\n",
       "    }\n",
       "\n",
       "    .dataframe thead th {\n",
       "        text-align: right;\n",
       "    }\n",
       "</style>\n",
       "<table border=\"1\" class=\"dataframe\">\n",
       "  <thead>\n",
       "    <tr style=\"text-align: right;\">\n",
       "      <th></th>\n",
       "      <th>count</th>\n",
       "      <th>mean</th>\n",
       "      <th>std</th>\n",
       "      <th>min</th>\n",
       "      <th>25%</th>\n",
       "      <th>50%</th>\n",
       "      <th>75%</th>\n",
       "      <th>max</th>\n",
       "    </tr>\n",
       "  </thead>\n",
       "  <tbody>\n",
       "    <tr>\n",
       "      <th>Age</th>\n",
       "      <td>300.0</td>\n",
       "      <td>45.756667</td>\n",
       "      <td>12.596548</td>\n",
       "      <td>19.0</td>\n",
       "      <td>35.0</td>\n",
       "      <td>45.0</td>\n",
       "      <td>55.0</td>\n",
       "      <td>90.0</td>\n",
       "    </tr>\n",
       "  </tbody>\n",
       "</table>\n",
       "</div>"
      ],
      "text/plain": [
       "     count       mean        std   min   25%   50%   75%   max\n",
       "Age  300.0  45.756667  12.596548  19.0  35.0  45.0  55.0  90.0"
      ]
     },
     "execution_count": 23,
     "metadata": {},
     "output_type": "execute_result"
    }
   ],
   "source": [
    "df.describe().T"
   ]
  },
  {
   "cell_type": "markdown",
   "id": "c32f4c1b-7d73-4416-9903-bd294a996276",
   "metadata": {},
   "source": [
    "# fetch the description about dataset"
   ]
  },
  {
   "cell_type": "code",
   "execution_count": 24,
   "id": "0cc1605e-ee6e-440f-b174-1d987b90c37d",
   "metadata": {},
   "outputs": [
    {
     "name": "stdout",
     "output_type": "stream",
     "text": [
      "<class 'pandas.core.frame.DataFrame'>\n",
      "Index: 300 entries, 0 to 347\n",
      "Data columns (total 10 columns):\n",
      " #   Column                Non-Null Count  Dtype \n",
      "---  ------                --------------  ----- \n",
      " 0   Disease               300 non-null    object\n",
      " 1   Fever                 300 non-null    object\n",
      " 2   Cough                 300 non-null    object\n",
      " 3   Fatigue               300 non-null    object\n",
      " 4   Difficulty Breathing  300 non-null    object\n",
      " 5   Age                   300 non-null    int64 \n",
      " 6   Gender                300 non-null    object\n",
      " 7   Blood Pressure        300 non-null    object\n",
      " 8   Cholesterol Level     300 non-null    object\n",
      " 9   Outcome Variable      300 non-null    object\n",
      "dtypes: int64(1), object(9)\n",
      "memory usage: 25.8+ KB\n"
     ]
    }
   ],
   "source": [
    "df.info()"
   ]
  },
  {
   "cell_type": "markdown",
   "id": "efd29ea8-bfa6-4a75-9c30-d44f26c2cc18",
   "metadata": {},
   "source": [
    "# seperate the categorical column and numerical column from data set"
   ]
  },
  {
   "cell_type": "code",
   "execution_count": 117,
   "id": "52c93738-23c0-4a8a-8c45-f4d1d4217524",
   "metadata": {},
   "outputs": [
    {
     "name": "stdout",
     "output_type": "stream",
     "text": [
      "categorical column Index(['Disease', 'Fever', 'Cough', 'Fatigue', 'Difficulty Breathing',\n",
      "       'Gender', 'Blood Pressure', 'Cholesterol Level', 'Outcome Variable'],\n",
      "      dtype='object')\n",
      "Numerical column Index(['Age'], dtype='object')\n"
     ]
    }
   ],
   "source": [
    "cat_col=df.select_dtypes(include='object').columns\n",
    "num_col=df.select_dtypes(exclude='object').columns\n",
    "print('categorical column',cat_col)\n",
    "print('Numerical column',num_col)"
   ]
  },
  {
   "cell_type": "code",
   "execution_count": 34,
   "id": "64fc7602-65de-47bf-8913-7eae44644544",
   "metadata": {},
   "outputs": [],
   "source": [
    "columns=['Fever', 'Cough', 'Fatigue', 'Difficulty Breathing',\n",
    "       'Gender', 'Blood Pressure', 'Cholesterol Level', 'Outcome Variable']"
   ]
  },
  {
   "cell_type": "code",
   "execution_count": 35,
   "id": "20dc5815-ecbe-4247-b2af-992d032fa26e",
   "metadata": {},
   "outputs": [
    {
     "data": {
      "image/png": "[encoded data removed]",
      "text/plain": [
       "<Figure size 2000x1500 with 8 Axes>"
      ]
     },
     "metadata": {},
     "output_type": "display_data"
    }
   ],
   "source": [
    "plt.figure(figsize=(20,15))\n",
    "for i in range(len(columns)):\n",
    "    plt.subplot(3,3,i+1)\n",
    "    sns.countplot(x=df[columns[i]])\n",
    "    plt.title(f' countplot for {columns[i]}')\n",
    "plt.show()"
   ]
  },
  {
   "cell_type": "code",
   "execution_count": 63,
   "id": "958dc02e-48ee-4f27-9826-84e9469c36d7",
   "metadata": {},
   "outputs": [
    {
     "data": {
      "image/png": "[encoded data removed]",
      "text/plain": [
       "<Figure size 2000x1500 with 1 Axes>"
      ]
     },
     "metadata": {},
     "output_type": "display_data"
    }
   ],
   "source": [
    "plt.figure(figsize=(20,15))\n",
    "for i in range(len(num_col)):\n",
    "    plt.subplot(3,3,i+1)\n",
    "    sns.distplot(x=df[num_col[i]])\n",
    "    plt.title(f' countplot for {num_col[i]}')\n",
    "plt.show()"
   ]
  },
  {
   "cell_type": "markdown",
   "id": "97b25015-1f3b-48a7-b084-dfa10acc9bd2",
   "metadata": {},
   "source": [
    "# outliers treatments"
   ]
  },
  {
   "cell_type": "code",
   "execution_count": 65,
   "id": "29982b8c-56c6-4378-8624-e1d5f2dbcac4",
   "metadata": {},
   "outputs": [
    {
     "data": {
      "image/png": "[encoded data removed]",
      "text/plain": [
       "<Figure size 2000x1500 with 1 Axes>"
      ]
     },
     "metadata": {},
     "output_type": "display_data"
    }
   ],
   "source": [
    "plt.figure(figsize=(20,15))\n",
    "for i in range(len(num_col)):\n",
    "    plt.subplot(3,3,i+1)\n",
    "    sns.boxplot(x=df[num_col[i]])\n",
    "    plt.title(f' countplot for {num_col[i]}')\n",
    "plt.show()"
   ]
  },
  {
   "cell_type": "code",
   "execution_count": 76,
   "id": "31e19512-2fe1-43dc-a83b-5638016444fb",
   "metadata": {},
   "outputs": [
    {
     "data": {
      "text/html": [
       "<div>\n",
       "<style scoped>\n",
       "    .dataframe tbody tr th:only-of-type {\n",
       "        vertical-align: middle;\n",
       "    }\n",
       "\n",
       "    .dataframe tbody tr th {\n",
       "        vertical-align: top;\n",
       "    }\n",
       "\n",
       "    .dataframe thead th {\n",
       "        text-align: right;\n",
       "    }\n",
       "</style>\n",
       "<table border=\"1\" class=\"dataframe\">\n",
       "  <thead>\n",
       "    <tr style=\"text-align: right;\">\n",
       "      <th></th>\n",
       "      <th>count</th>\n",
       "      <th>mean</th>\n",
       "      <th>std</th>\n",
       "      <th>min</th>\n",
       "      <th>50%</th>\n",
       "      <th>95%</th>\n",
       "      <th>96%</th>\n",
       "      <th>97%</th>\n",
       "      <th>98%</th>\n",
       "      <th>99%</th>\n",
       "      <th>max</th>\n",
       "    </tr>\n",
       "  </thead>\n",
       "  <tbody>\n",
       "    <tr>\n",
       "      <th>Age</th>\n",
       "      <td>300.0</td>\n",
       "      <td>45.756667</td>\n",
       "      <td>12.596548</td>\n",
       "      <td>19.0</td>\n",
       "      <td>45.0</td>\n",
       "      <td>70.0</td>\n",
       "      <td>70.0</td>\n",
       "      <td>70.0</td>\n",
       "      <td>70.0</td>\n",
       "      <td>70.1</td>\n",
       "      <td>90.0</td>\n",
       "    </tr>\n",
       "  </tbody>\n",
       "</table>\n",
       "</div>"
      ],
      "text/plain": [
       "     count       mean        std   min   50%   95%   96%   97%   98%   99%  \\\n",
       "Age  300.0  45.756667  12.596548  19.0  45.0  70.0  70.0  70.0  70.0  70.1   \n",
       "\n",
       "      max  \n",
       "Age  90.0  "
      ]
     },
     "execution_count": 76,
     "metadata": {},
     "output_type": "execute_result"
    }
   ],
   "source": [
    "a=df[num_col].describe(percentiles=[0.95,0.96,0.97,0.98,0.99]).T\n",
    "a"
   ]
  },
  {
   "cell_type": "code",
   "execution_count": 77,
   "id": "c7042a93-4d16-4b67-9c79-22751c4be6e7",
   "metadata": {},
   "outputs": [],
   "source": [
    "df1=df.copy()"
   ]
  },
  {
   "cell_type": "markdown",
   "id": "92e2ed5b-fefe-46fa-9cda-997504e4791a",
   "metadata": {},
   "source": [
    "# features counts"
   ]
  },
  {
   "cell_type": "code",
   "execution_count": 116,
   "id": "d88908d7-9784-4e36-badf-ad6ae09042b4",
   "metadata": {},
   "outputs": [
    {
     "name": "stdout",
     "output_type": "stream",
     "text": [
      " fetaures Disease\n",
      "Disease\n",
      "Asthma                            16\n",
      "Osteoporosis                      12\n",
      "Stroke                            11\n",
      "Hypertension                      10\n",
      "Migraine                          10\n",
      "                                  ..\n",
      "Fibromyalgia                       1\n",
      "Eating Disorders (Anorexia,...     1\n",
      "Chickenpox                         1\n",
      "Rabies                             1\n",
      "Williams Syndrome                  1\n",
      "Name: count, Length: 116, dtype: int64\n",
      "******************************\n",
      " fetaures Fever\n",
      "Fever\n",
      "No     157\n",
      "Yes    143\n",
      "Name: count, dtype: int64\n",
      "******************************\n",
      " fetaures Cough\n",
      "Cough\n",
      "No     160\n",
      "Yes    140\n",
      "Name: count, dtype: int64\n",
      "******************************\n",
      " fetaures Fatigue\n",
      "Fatigue\n",
      "Yes    212\n",
      "No      88\n",
      "Name: count, dtype: int64\n",
      "******************************\n",
      " fetaures Difficulty Breathing\n",
      "Difficulty Breathing\n",
      "No     227\n",
      "Yes     73\n",
      "Name: count, dtype: int64\n",
      "******************************\n",
      " fetaures Gender\n",
      "Gender\n",
      "Female    152\n",
      "Male      148\n",
      "Name: count, dtype: int64\n",
      "******************************\n",
      " fetaures Blood Pressure\n",
      "Blood Pressure\n",
      "High      143\n",
      "Normal    139\n",
      "Low        18\n",
      "Name: count, dtype: int64\n",
      "******************************\n",
      " fetaures Cholesterol Level\n",
      "Cholesterol Level\n",
      "High      140\n",
      "Normal    130\n",
      "Low        30\n",
      "Name: count, dtype: int64\n",
      "******************************\n",
      " fetaures Outcome Variable\n",
      "Outcome Variable\n",
      "Positive    157\n",
      "Negative    143\n",
      "Name: count, dtype: int64\n",
      "******************************\n"
     ]
    }
   ],
   "source": [
    "for i in cat_col:\n",
    "    print(f' fetaures {i}')\n",
    "    print(df[i].value_counts())\n",
    "    print('*'*30)"
   ]
  },
  {
   "cell_type": "markdown",
   "id": "d0a6e259-e14b-4ac1-a8ee-757a40b8b59a",
   "metadata": {},
   "source": [
    "# Encoding categorical features"
   ]
  },
  {
   "cell_type": "code",
   "execution_count": 119,
   "id": "e2d5fb11-6e9f-400c-86f7-077aa396e8b4",
   "metadata": {},
   "outputs": [],
   "source": [
    "from sklearn.preprocessing import LabelEncoder\n",
    "for i in cat_col:\n",
    "    lb=LabelEncoder()\n",
    "    df[i]=lb.fit_transform(df[i])\n",
    "    "
   ]
  },
  {
   "cell_type": "code",
   "execution_count": 120,
   "id": "f710a4d4-a177-4f98-839b-af1df1694559",
   "metadata": {},
   "outputs": [
    {
     "data": {
      "text/plain": [
       "Disease                 int32\n",
       "Fever                   int32\n",
       "Cough                   int32\n",
       "Fatigue                 int32\n",
       "Difficulty Breathing    int32\n",
       "Age                     int64\n",
       "Gender                  int32\n",
       "Blood Pressure          int32\n",
       "Cholesterol Level       int32\n",
       "Outcome Variable        int32\n",
       "dtype: object"
      ]
     },
     "execution_count": 120,
     "metadata": {},
     "output_type": "execute_result"
    }
   ],
   "source": [
    "df.dtypes"
   ]
  },
  {
   "cell_type": "code",
   "execution_count": 121,
   "id": "53de1d10-1957-49f2-ab09-841e818fdc57",
   "metadata": {},
   "outputs": [
    {
     "data": {
      "text/html": [
       "<div>\n",
       "<style scoped>\n",
       "    .dataframe tbody tr th:only-of-type {\n",
       "        vertical-align: middle;\n",
       "    }\n",
       "\n",
       "    .dataframe tbody tr th {\n",
       "        vertical-align: top;\n",
       "    }\n",
       "\n",
       "    .dataframe thead th {\n",
       "        text-align: right;\n",
       "    }\n",
       "</style>\n",
       "<table border=\"1\" class=\"dataframe\">\n",
       "  <thead>\n",
       "    <tr style=\"text-align: right;\">\n",
       "      <th></th>\n",
       "      <th>Disease</th>\n",
       "      <th>Fever</th>\n",
       "      <th>Cough</th>\n",
       "      <th>Fatigue</th>\n",
       "      <th>Difficulty Breathing</th>\n",
       "      <th>Age</th>\n",
       "      <th>Gender</th>\n",
       "      <th>Blood Pressure</th>\n",
       "      <th>Cholesterol Level</th>\n",
       "      <th>Outcome Variable</th>\n",
       "    </tr>\n",
       "  </thead>\n",
       "  <tbody>\n",
       "    <tr>\n",
       "      <th>0</th>\n",
       "      <td>56</td>\n",
       "      <td>1</td>\n",
       "      <td>0</td>\n",
       "      <td>1</td>\n",
       "      <td>1</td>\n",
       "      <td>19</td>\n",
       "      <td>0</td>\n",
       "      <td>1</td>\n",
       "      <td>2</td>\n",
       "      <td>1</td>\n",
       "    </tr>\n",
       "    <tr>\n",
       "      <th>1</th>\n",
       "      <td>24</td>\n",
       "      <td>0</td>\n",
       "      <td>1</td>\n",
       "      <td>1</td>\n",
       "      <td>0</td>\n",
       "      <td>25</td>\n",
       "      <td>0</td>\n",
       "      <td>2</td>\n",
       "      <td>2</td>\n",
       "      <td>0</td>\n",
       "    </tr>\n",
       "    <tr>\n",
       "      <th>2</th>\n",
       "      <td>37</td>\n",
       "      <td>0</td>\n",
       "      <td>1</td>\n",
       "      <td>1</td>\n",
       "      <td>0</td>\n",
       "      <td>25</td>\n",
       "      <td>0</td>\n",
       "      <td>2</td>\n",
       "      <td>2</td>\n",
       "      <td>0</td>\n",
       "    </tr>\n",
       "    <tr>\n",
       "      <th>3</th>\n",
       "      <td>6</td>\n",
       "      <td>1</td>\n",
       "      <td>1</td>\n",
       "      <td>0</td>\n",
       "      <td>1</td>\n",
       "      <td>25</td>\n",
       "      <td>1</td>\n",
       "      <td>2</td>\n",
       "      <td>2</td>\n",
       "      <td>1</td>\n",
       "    </tr>\n",
       "    <tr>\n",
       "      <th>5</th>\n",
       "      <td>37</td>\n",
       "      <td>1</td>\n",
       "      <td>0</td>\n",
       "      <td>0</td>\n",
       "      <td>0</td>\n",
       "      <td>25</td>\n",
       "      <td>0</td>\n",
       "      <td>2</td>\n",
       "      <td>2</td>\n",
       "      <td>1</td>\n",
       "    </tr>\n",
       "    <tr>\n",
       "      <th>...</th>\n",
       "      <td>...</td>\n",
       "      <td>...</td>\n",
       "      <td>...</td>\n",
       "      <td>...</td>\n",
       "      <td>...</td>\n",
       "      <td>...</td>\n",
       "      <td>...</td>\n",
       "      <td>...</td>\n",
       "      <td>...</td>\n",
       "      <td>...</td>\n",
       "    </tr>\n",
       "    <tr>\n",
       "      <th>341</th>\n",
       "      <td>106</td>\n",
       "      <td>1</td>\n",
       "      <td>1</td>\n",
       "      <td>1</td>\n",
       "      <td>0</td>\n",
       "      <td>70</td>\n",
       "      <td>0</td>\n",
       "      <td>0</td>\n",
       "      <td>0</td>\n",
       "      <td>1</td>\n",
       "    </tr>\n",
       "    <tr>\n",
       "      <th>342</th>\n",
       "      <td>114</td>\n",
       "      <td>0</td>\n",
       "      <td>0</td>\n",
       "      <td>1</td>\n",
       "      <td>0</td>\n",
       "      <td>70</td>\n",
       "      <td>0</td>\n",
       "      <td>2</td>\n",
       "      <td>2</td>\n",
       "      <td>1</td>\n",
       "    </tr>\n",
       "    <tr>\n",
       "      <th>343</th>\n",
       "      <td>101</td>\n",
       "      <td>1</td>\n",
       "      <td>0</td>\n",
       "      <td>1</td>\n",
       "      <td>0</td>\n",
       "      <td>80</td>\n",
       "      <td>0</td>\n",
       "      <td>0</td>\n",
       "      <td>0</td>\n",
       "      <td>1</td>\n",
       "    </tr>\n",
       "    <tr>\n",
       "      <th>345</th>\n",
       "      <td>101</td>\n",
       "      <td>1</td>\n",
       "      <td>0</td>\n",
       "      <td>1</td>\n",
       "      <td>0</td>\n",
       "      <td>85</td>\n",
       "      <td>1</td>\n",
       "      <td>0</td>\n",
       "      <td>0</td>\n",
       "      <td>1</td>\n",
       "    </tr>\n",
       "    <tr>\n",
       "      <th>347</th>\n",
       "      <td>101</td>\n",
       "      <td>1</td>\n",
       "      <td>0</td>\n",
       "      <td>1</td>\n",
       "      <td>0</td>\n",
       "      <td>90</td>\n",
       "      <td>0</td>\n",
       "      <td>0</td>\n",
       "      <td>0</td>\n",
       "      <td>1</td>\n",
       "    </tr>\n",
       "  </tbody>\n",
       "</table>\n",
       "<p>300 rows × 10 columns</p>\n",
       "</div>"
      ],
      "text/plain": [
       "     Disease  Fever  Cough  Fatigue  Difficulty Breathing  Age  Gender  \\\n",
       "0         56      1      0        1                     1   19       0   \n",
       "1         24      0      1        1                     0   25       0   \n",
       "2         37      0      1        1                     0   25       0   \n",
       "3          6      1      1        0                     1   25       1   \n",
       "5         37      1      0        0                     0   25       0   \n",
       "..       ...    ...    ...      ...                   ...  ...     ...   \n",
       "341      106      1      1        1                     0   70       0   \n",
       "342      114      0      0        1                     0   70       0   \n",
       "343      101      1      0        1                     0   80       0   \n",
       "345      101      1      0        1                     0   85       1   \n",
       "347      101      1      0        1                     0   90       0   \n",
       "\n",
       "     Blood Pressure  Cholesterol Level  Outcome Variable  \n",
       "0                 1                  2                 1  \n",
       "1                 2                  2                 0  \n",
       "2                 2                  2                 0  \n",
       "3                 2                  2                 1  \n",
       "5                 2                  2                 1  \n",
       "..              ...                ...               ...  \n",
       "341               0                  0                 1  \n",
       "342               2                  2                 1  \n",
       "343               0                  0                 1  \n",
       "345               0                  0                 1  \n",
       "347               0                  0                 1  \n",
       "\n",
       "[300 rows x 10 columns]"
      ]
     },
     "execution_count": 121,
     "metadata": {},
     "output_type": "execute_result"
    }
   ],
   "source": [
    "df"
   ]
  },
  {
   "cell_type": "markdown",
   "id": "e3f39f23-fb98-415f-97eb-386ddb057400",
   "metadata": {},
   "source": [
    "# select independent and dependent variable"
   ]
  },
  {
   "cell_type": "code",
   "execution_count": 122,
   "id": "52e990b6-68a5-40ab-9ce8-9c9cda84e054",
   "metadata": {},
   "outputs": [
    {
     "name": "stdout",
     "output_type": "stream",
     "text": [
      "(300, 9)\n",
      "(300,)\n",
      "<class 'pandas.core.frame.DataFrame'>\n",
      "<class 'pandas.core.series.Series'>\n"
     ]
    }
   ],
   "source": [
    "x=df.drop('Outcome Variable',axis=1)\n",
    "y=df['Outcome Variable']\n",
    "print(x.shape)\n",
    "print(y.shape)\n",
    "print(type(x))\n",
    "print(type(y))"
   ]
  },
  {
   "cell_type": "markdown",
   "id": "cadadd8c-2236-41d2-8d96-93e09d6aa075",
   "metadata": {},
   "source": [
    "# split the data into training and testing data"
   ]
  },
  {
   "cell_type": "code",
   "execution_count": 123,
   "id": "1b949628-b860-4b66-914c-e99a1ce544a8",
   "metadata": {},
   "outputs": [
    {
     "name": "stdout",
     "output_type": "stream",
     "text": [
      "(210, 9)\n",
      "(90, 9)\n",
      "(210,)\n",
      "(90,)\n"
     ]
    }
   ],
   "source": [
    "from sklearn.model_selection import train_test_split\n",
    "x_train,x_test,y_train,y_test=train_test_split(x,y,random_state=42,test_size=0.3)\n",
    "print(x_train.shape)\n",
    "print(x_test.shape)\n",
    "print(y_train.shape)\n",
    "print(y_test.shape)"
   ]
  },
  {
   "cell_type": "markdown",
   "id": "a967943f-c2a6-4b2a-86c6-f8c04995ab7d",
   "metadata": {},
   "source": [
    "# create a function to evaluate model performance"
   ]
  },
  {
   "cell_type": "code",
   "execution_count": 134,
   "id": "da3b3553-c67b-423f-b5e0-a7c0df0020ed",
   "metadata": {},
   "outputs": [],
   "source": [
    "from sklearn.metrics import *\n",
    "def eval_model(model,x_train,x_test,y_train,y_test,mname):\n",
    "    model.fit(x_train,y_train)\n",
    "    ypred=model.predict(x_test)\n",
    "    Training_score=model.score(x_train,y_train)\n",
    "    Testing_score=model.score(x_test,y_test)\n",
    "    cm=confusion_matrix(y_test,ypred)\n",
    "    print('confusion matrix',cm)\n",
    "    print('Accuracy_score',accuracy_score(y_test,ypred))\n",
    "    print('classification report',classification_report(y_test,ypred))\n",
    "    res=pd.DataFrame({'Training_score':Training_score,'Testing_score':Testing_score},index=[mname])\n",
    "    return res,ypred\n",
    "    "
   ]
  },
  {
   "cell_type": "markdown",
   "id": "bda51236-fa8a-4dad-86e6-9507aefe6329",
   "metadata": {},
   "source": [
    "# import ML model"
   ]
  },
  {
   "cell_type": "code",
   "execution_count": 131,
   "id": "95db834a-164f-4203-b298-1de615599a5e",
   "metadata": {},
   "outputs": [],
   "source": [
    "from sklearn.linear_model import LogisticRegression\n",
    "from sklearn.tree import DecisionTreeClassifier\n",
    "from sklearn.ensemble import RandomForestClassifier,AdaBoostClassifier"
   ]
  },
  {
   "cell_type": "markdown",
   "id": "3ae3db64-1c07-4ebd-8586-70f227a58c4f",
   "metadata": {},
   "source": [
    "# Logistic Regression"
   ]
  },
  {
   "cell_type": "code",
   "execution_count": 135,
   "id": "391ebf6b-549f-4469-a12a-f6c12486993c",
   "metadata": {},
   "outputs": [
    {
     "name": "stdout",
     "output_type": "stream",
     "text": [
      "confusion matrix [[28 12]\n",
      " [13 37]]\n",
      "Accuracy_score 0.7222222222222222\n",
      "classification report               precision    recall  f1-score   support\n",
      "\n",
      "           0       0.68      0.70      0.69        40\n",
      "           1       0.76      0.74      0.75        50\n",
      "\n",
      "    accuracy                           0.72        90\n",
      "   macro avg       0.72      0.72      0.72        90\n",
      "weighted avg       0.72      0.72      0.72        90\n",
      "\n"
     ]
    },
    {
     "data": {
      "text/html": [
       "<div>\n",
       "<style scoped>\n",
       "    .dataframe tbody tr th:only-of-type {\n",
       "        vertical-align: middle;\n",
       "    }\n",
       "\n",
       "    .dataframe tbody tr th {\n",
       "        vertical-align: top;\n",
       "    }\n",
       "\n",
       "    .dataframe thead th {\n",
       "        text-align: right;\n",
       "    }\n",
       "</style>\n",
       "<table border=\"1\" class=\"dataframe\">\n",
       "  <thead>\n",
       "    <tr style=\"text-align: right;\">\n",
       "      <th></th>\n",
       "      <th>Training_score</th>\n",
       "      <th>Testing_score</th>\n",
       "    </tr>\n",
       "  </thead>\n",
       "  <tbody>\n",
       "    <tr>\n",
       "      <th>Log_Reg</th>\n",
       "      <td>0.642857</td>\n",
       "      <td>0.722222</td>\n",
       "    </tr>\n",
       "  </tbody>\n",
       "</table>\n",
       "</div>"
      ],
      "text/plain": [
       "         Training_score  Testing_score\n",
       "Log_Reg        0.642857       0.722222"
      ]
     },
     "execution_count": 135,
     "metadata": {},
     "output_type": "execute_result"
    }
   ],
   "source": [
    "log_reg=LogisticRegression(max_iter=1000,solver='liblinear')\n",
    "log_reg_res,log_res_ypred=eval_model(log_reg,x_train,x_test,y_train,y_test,'Log_Reg')\n",
    "log_reg_res"
   ]
  },
  {
   "cell_type": "markdown",
   "id": "4b321244-6e1d-4e97-ba38-747bbb93dbf1",
   "metadata": {},
   "source": [
    "# DT model"
   ]
  },
  {
   "cell_type": "code",
   "execution_count": 136,
   "id": "8712ba0a-34a9-4b5e-8928-2a23a466410a",
   "metadata": {},
   "outputs": [
    {
     "name": "stdout",
     "output_type": "stream",
     "text": [
      "confusion matrix [[25 15]\n",
      " [11 39]]\n",
      "Accuracy_score 0.7111111111111111\n",
      "classification report               precision    recall  f1-score   support\n",
      "\n",
      "           0       0.69      0.62      0.66        40\n",
      "           1       0.72      0.78      0.75        50\n",
      "\n",
      "    accuracy                           0.71        90\n",
      "   macro avg       0.71      0.70      0.70        90\n",
      "weighted avg       0.71      0.71      0.71        90\n",
      "\n"
     ]
    },
    {
     "data": {
      "text/html": [
       "<div>\n",
       "<style scoped>\n",
       "    .dataframe tbody tr th:only-of-type {\n",
       "        vertical-align: middle;\n",
       "    }\n",
       "\n",
       "    .dataframe tbody tr th {\n",
       "        vertical-align: top;\n",
       "    }\n",
       "\n",
       "    .dataframe thead th {\n",
       "        text-align: right;\n",
       "    }\n",
       "</style>\n",
       "<table border=\"1\" class=\"dataframe\">\n",
       "  <thead>\n",
       "    <tr style=\"text-align: right;\">\n",
       "      <th></th>\n",
       "      <th>Training_score</th>\n",
       "      <th>Testing_score</th>\n",
       "    </tr>\n",
       "  </thead>\n",
       "  <tbody>\n",
       "    <tr>\n",
       "      <th>Decision_tree</th>\n",
       "      <td>0.890476</td>\n",
       "      <td>0.711111</td>\n",
       "    </tr>\n",
       "  </tbody>\n",
       "</table>\n",
       "</div>"
      ],
      "text/plain": [
       "               Training_score  Testing_score\n",
       "Decision_tree        0.890476       0.711111"
      ]
     },
     "execution_count": 136,
     "metadata": {},
     "output_type": "execute_result"
    }
   ],
   "source": [
    "dt=DecisionTreeClassifier(max_depth=12,min_samples_split=10)\n",
    "dt_res,dt_ypred=eval_model(dt,x_train,x_test,y_train,y_test,'Decision_tree')\n",
    "dt_res"
   ]
  },
  {
   "cell_type": "markdown",
   "id": "0cb35f1c-0ca3-4bde-9a56-94536d47cdd0",
   "metadata": {},
   "source": [
    "# RF model"
   ]
  },
  {
   "cell_type": "code",
   "execution_count": 137,
   "id": "8a6492b4-7f98-486d-a178-34b4f14a34a3",
   "metadata": {},
   "outputs": [
    {
     "name": "stdout",
     "output_type": "stream",
     "text": [
      "confusion matrix [[27 13]\n",
      " [11 39]]\n",
      "Accuracy_score 0.7333333333333333\n",
      "classification report               precision    recall  f1-score   support\n",
      "\n",
      "           0       0.71      0.68      0.69        40\n",
      "           1       0.75      0.78      0.76        50\n",
      "\n",
      "    accuracy                           0.73        90\n",
      "   macro avg       0.73      0.73      0.73        90\n",
      "weighted avg       0.73      0.73      0.73        90\n",
      "\n"
     ]
    },
    {
     "data": {
      "text/html": [
       "<div>\n",
       "<style scoped>\n",
       "    .dataframe tbody tr th:only-of-type {\n",
       "        vertical-align: middle;\n",
       "    }\n",
       "\n",
       "    .dataframe tbody tr th {\n",
       "        vertical-align: top;\n",
       "    }\n",
       "\n",
       "    .dataframe thead th {\n",
       "        text-align: right;\n",
       "    }\n",
       "</style>\n",
       "<table border=\"1\" class=\"dataframe\">\n",
       "  <thead>\n",
       "    <tr style=\"text-align: right;\">\n",
       "      <th></th>\n",
       "      <th>Training_score</th>\n",
       "      <th>Testing_score</th>\n",
       "    </tr>\n",
       "  </thead>\n",
       "  <tbody>\n",
       "    <tr>\n",
       "      <th>Random_forest</th>\n",
       "      <td>0.904762</td>\n",
       "      <td>0.733333</td>\n",
       "    </tr>\n",
       "  </tbody>\n",
       "</table>\n",
       "</div>"
      ],
      "text/plain": [
       "               Training_score  Testing_score\n",
       "Random_forest        0.904762       0.733333"
      ]
     },
     "execution_count": 137,
     "metadata": {},
     "output_type": "execute_result"
    }
   ],
   "source": [
    "rf=RandomForestClassifier(n_estimators=80,max_depth=12,min_samples_split=10)\n",
    "rf_res,rf_ypred=eval_model(rf,x_train,x_test,y_train,y_test,'Random_forest')\n",
    "rf_res"
   ]
  },
  {
   "cell_type": "markdown",
   "id": "2823eac6-a576-4919-bd92-378ca3bf67cb",
   "metadata": {},
   "source": [
    "# ADBoost model"
   ]
  },
  {
   "cell_type": "code",
   "execution_count": 138,
   "id": "b11c4c46-9a14-456f-b4ba-d300edccd6cb",
   "metadata": {},
   "outputs": [
    {
     "name": "stdout",
     "output_type": "stream",
     "text": [
      "confusion matrix [[25 15]\n",
      " [10 40]]\n",
      "Accuracy_score 0.7222222222222222\n",
      "classification report               precision    recall  f1-score   support\n",
      "\n",
      "           0       0.71      0.62      0.67        40\n",
      "           1       0.73      0.80      0.76        50\n",
      "\n",
      "    accuracy                           0.72        90\n",
      "   macro avg       0.72      0.71      0.71        90\n",
      "weighted avg       0.72      0.72      0.72        90\n",
      "\n"
     ]
    },
    {
     "data": {
      "text/html": [
       "<div>\n",
       "<style scoped>\n",
       "    .dataframe tbody tr th:only-of-type {\n",
       "        vertical-align: middle;\n",
       "    }\n",
       "\n",
       "    .dataframe tbody tr th {\n",
       "        vertical-align: top;\n",
       "    }\n",
       "\n",
       "    .dataframe thead th {\n",
       "        text-align: right;\n",
       "    }\n",
       "</style>\n",
       "<table border=\"1\" class=\"dataframe\">\n",
       "  <thead>\n",
       "    <tr style=\"text-align: right;\">\n",
       "      <th></th>\n",
       "      <th>Training_score</th>\n",
       "      <th>Testing_score</th>\n",
       "    </tr>\n",
       "  </thead>\n",
       "  <tbody>\n",
       "    <tr>\n",
       "      <th>AdaBoost</th>\n",
       "      <td>1.0</td>\n",
       "      <td>0.722222</td>\n",
       "    </tr>\n",
       "  </tbody>\n",
       "</table>\n",
       "</div>"
      ],
      "text/plain": [
       "          Training_score  Testing_score\n",
       "AdaBoost             1.0       0.722222"
      ]
     },
     "execution_count": 138,
     "metadata": {},
     "output_type": "execute_result"
    }
   ],
   "source": [
    "ad=AdaBoostClassifier(n_estimators=80,estimator=dt)\n",
    "ad_res,ad_ypred=eval_model(ad,x_train,x_test,y_train,y_test,'AdaBoost')\n",
    "ad_res"
   ]
  },
  {
   "cell_type": "markdown",
   "id": "e24a5401-42eb-4681-b9ea-cc5ea273d258",
   "metadata": {},
   "source": [
    "# Inference "
   ]
  },
  {
   "cell_type": "markdown",
   "id": "8ea8ac77-d7a9-4202-912f-f2be0f79dcd8",
   "metadata": {},
   "source": [
    "#### The best model is Decision Tree Classifier"
   ]
  },
  {
   "cell_type": "markdown",
   "id": "0d6a6ef0-309f-4145-aabf-4d793511f2a3",
   "metadata": {},
   "source": [
    "# save the model"
   ]
  },
  {
   "cell_type": "code",
   "execution_count": 139,
   "id": "5283750a-cbfb-469e-8f51-2b6104be870f",
   "metadata": {},
   "outputs": [],
   "source": [
    "import pickle"
   ]
  },
  {
   "cell_type": "code",
   "execution_count": 140,
   "id": "708f3185-c20a-436c-8630-b5cbdcd41e6d",
   "metadata": {},
   "outputs": [],
   "source": [
    "pickle.dump(log_reg,open('log_reg_model_disease_prediction.pkl','wb'))\n",
    "pickle.dump(dt,open('dt_model_disease_prediction.pkl','wb'))\n",
    "pickle.dump(rf,open('rf_model_disease_prediction.pkl','wb'))\n",
    "pickle.dump(ad,open('adboost_model_disease_prediction.pkl','wb'))"
   ]
  },
  {
   "cell_type": "code",
   "execution_count": null,
   "id": "ee8c236f-fcec-4dce-a101-f076fb12e399",
   "metadata": {},
   "outputs": [],
   "source": []
  }
 ],
 "metadata": {
  "kernelspec": {
   "display_name": "Python 3 (ipykernel)",
   "language": "python",
   "name": "python3"
  },
  "language_info": {
   "codemirror_mode": {
    "name": "ipython",
    "version": 3
   },
   "file_extension": ".py",
   "mimetype": "text/x-python",
   "name": "python",
   "nbconvert_exporter": "python",
   "pygments_lexer": "ipython3",
   "version": "3.11.5"
  }
 },
 "nbformat": 4,
 "nbformat_minor": 5
}
